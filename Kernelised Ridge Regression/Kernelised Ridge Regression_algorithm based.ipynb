{
 "cells": [
  {
   "cell_type": "markdown",
   "metadata": {},
   "source": [
    "<h1 align=\"center\">Kernelised Ridge Regression</h1>\n",
    "\n",
    "<p>In machine learning, kernel methods can be described as a class of algorithms which can be used for pattern analysis. The kernel functions enables to perform in a high dimensional feature space where it just computes the inner products of all the data pairs in the feature space. This approach is defined as\" Kernel trick\".</p>\n",
    "\n",
    "<p>Ridge Regression is a method which performs linear least squares with I2-normal regularization.the Ridge regression is expressed as</p>\n",
    "<h4 align=\"center\"> β=(XX^T+ʎI)^-1(X^T*y)</h4>\n",
    "\n",
    "Kernel Ridge regression will combine the ridge regression with the kernel trick. So in this, it will learn a linear function inside the space which includes respective kernel and the data.The kernel Ridge Regression is expressed as</p>\n",
    "<h4 align=\"center\"> Y=K(x)^T(K+λI)^-1*t </h4>\n",
    "<p> In our project, we are going to implement three types of kernels namely Linear, Polynomial and Gaussian. then we compare the performance of three models against each other. Also we compare the performance of each model with the existing API functions(we are using Sklearn). Then we plot the graph on a trivial dataset for each model and check classification of the new data</p>\n"
   ]
  },
  {
   "cell_type": "code",
   "execution_count": 169,
   "metadata": {
    "collapsed": false
   },
   "outputs": [],
   "source": [
    "#import all packages needed for program\n",
    "import pandas as pd\n",
    "import matplotlib.pyplot as plt\n",
    "import numpy as np\n",
    "import sklearn\n",
    "from sklearn.model_selection import train_test_split\n",
    "from sklearn.grid_search import GridSearchCV\n",
    "from sklearn import metrics\n",
    "from sklearn.base import BaseEstimator, RegressorMixin\n",
    "from sklearn.kernel_ridge import KernelRidge \n",
    "import matplotlib.patches as mpatches\n",
    "%matplotlib inline"
   ]
  },
  {
   "cell_type": "markdown",
   "metadata": {},
   "source": [
    "<p>We are using Abalone dataset for our implementation, which predicts the number of rings in the abalone. From the number of rings we can predict the age of the abalone. We have considered 7 features in our dataset like Length, Diameter, Whole weight, Height, Shucked weight, Viscera weight, Shell weight for our implementation. We have also added a Bias term for better fitting of the data.The number of rings is given by our response variable which is used to predict the age.We have only considered 800 data points from this huge dataset for our implementation.</p>\n",
    "\n",
    "<p>Then we are converting the dataframe into matrix.</p>\n"
   ]
  },
  {
   "cell_type": "code",
   "execution_count": 150,
   "metadata": {
    "collapsed": false
   },
   "outputs": [],
   "source": [
    "#Reading features and response from two different csv files using pandas \n",
    "dataset=pd.read_csv(\"/home/sathyanarayanan/features.csv\")\n",
    "dataset[\"BIAS\"]=1\n",
    "response=pd.read_csv(\"/home/sathyanarayanan/response.csv\")\n",
    "#taking 800 samples points from the original dataset\n",
    "X=X[0:800,:]\n",
    "Y=Y[0:800,:]\n",
    "#converting pandas dataframe to matrix\n",
    "X=np.asmatrix(X)\n",
    "Y=np.asmatrix(Y)"
   ]
  },
  {
   "cell_type": "markdown",
   "metadata": {},
   "source": [
    "Here we split the dataset into train and test datapoints."
   ]
  },
  {
   "cell_type": "code",
   "execution_count": 4,
   "metadata": {
    "collapsed": true
   },
   "outputs": [],
   "source": [
    "#Splitting dataset into train and test set\n",
    "X_train, X_test, Y_train, Y_test = train_test_split(X, Y, test_size=0.3, random_state=1)"
   ]
  },
  {
   "cell_type": "markdown",
   "metadata": {},
   "source": [
    "<p>Linear kernel can be expressed as</p> \n",
    " <h4 align=\"center\">k(X,X’)=X^T*X’ </h4>\n",
    "  <p align> where X is our training data and X' is our test data for k(X). Then we find K which takes the training data and performs linear kernel. We are computing Y=K(x)T(K+λI)-1.t for calculating our predicted response.</p>\n",
    "  <p align> Since we are using gridsearchCV we perform these computations inside fit method of the regressor.We do 5 fold cross validation and tuning of hyper parameters using grid search.  We calculate R square as performance metric. </p>\n",
    "  \n",
    " "
   ]
  },
  {
   "cell_type": "code",
   "execution_count": 5,
   "metadata": {
    "collapsed": false
   },
   "outputs": [],
   "source": [
    "#Creating class for linear kernel to perform gridsearchcv\n",
    "class Linear_kernel(BaseEstimator, RegressorMixin):\n",
    "    \n",
    "    def __init__(self,lamda=0.5):\n",
    "        \n",
    "        self.lamda=lamda\n",
    "        \n",
    "    def fit(self,X_train,Y_train):\n",
    "        \n",
    "        k= X_train * np.transpose(X_train)\n",
    "\n",
    "        shape_r,shape_c=k.shape\n",
    "\n",
    "        Identity=(np.identity(shape_r))\n",
    "\n",
    "        lamdaI=self.lamda*Identity\n",
    "\n",
    "        Second=np.linalg.pinv(k+lamdaI)\n",
    "\n",
    "        k_x= X_train * np.transpose(X_test)\n",
    "\n",
    "        k_x_tran=np.transpose(k_x)\n",
    "\n",
    "        res= np.dot(k_x_tran, Second)\n",
    "\n",
    "        self.y_pred_lin_ourmodel=np.dot(res,Y_train)\n",
    "        \n",
    "        return self\n",
    "    \n",
    "    def score(self,X_train,Y_train):\n",
    "        # R squared is used as a metric\n",
    "        score_linear_ourmodel=sklearn.metrics.r2_score(Y_test, self.y_pred_lin_ourmodel)\n",
    "        \n",
    "        return score_linear_ourmodel "
   ]
  },
  {
   "cell_type": "code",
   "execution_count": 6,
   "metadata": {
    "collapsed": true
   },
   "outputs": [],
   "source": [
    "#parameter tuning\n",
    "tuned_params_linear = {\"lamda\" : [1e0,0.1,1e-2,1e-3,0.5,2,3,5]}"
   ]
  },
  {
   "cell_type": "code",
   "execution_count": 7,
   "metadata": {
    "collapsed": true
   },
   "outputs": [],
   "source": [
    "#Performing GridSearch\n",
    "grid_lin = GridSearchCV(Linear_kernel(), tuned_params_linear, cv=5)"
   ]
  },
  {
   "cell_type": "code",
   "execution_count": 8,
   "metadata": {
    "collapsed": false
   },
   "outputs": [
    {
     "data": {
      "text/plain": [
       "GridSearchCV(cv=5, error_score='raise', estimator=Linear_kernel(lamda=0.5),\n",
       "       fit_params={}, iid=True, n_jobs=1,\n",
       "       param_grid={'lamda': [1.0, 0.1, 0.01, 0.001, 0.5, 2, 3, 5]},\n",
       "       pre_dispatch='2*n_jobs', refit=True, scoring=None, verbose=0)"
      ]
     },
     "execution_count": 8,
     "metadata": {},
     "output_type": "execute_result"
    }
   ],
   "source": [
    "#Invoking the linear regrressor\n",
    "grid_lin.fit(X_train,Y_train)"
   ]
  },
  {
   "cell_type": "code",
   "execution_count": 9,
   "metadata": {
    "collapsed": false
   },
   "outputs": [
    {
     "data": {
      "text/plain": [
       "[mean: 0.50418, std: 0.00269, params: {'lamda': 1.0},\n",
       " mean: 0.52951, std: 0.00192, params: {'lamda': 0.1},\n",
       " mean: 0.52583, std: 0.00199, params: {'lamda': 0.01},\n",
       " mean: 0.52429, std: 0.00212, params: {'lamda': 0.001},\n",
       " mean: 0.51672, std: 0.00243, params: {'lamda': 0.5},\n",
       " mean: 0.48969, std: 0.00264, params: {'lamda': 2},\n",
       " mean: 0.48156, std: 0.00245, params: {'lamda': 3},\n",
       " mean: 0.47257, std: 0.00213, params: {'lamda': 5}]"
      ]
     },
     "execution_count": 9,
     "metadata": {},
     "output_type": "execute_result"
    }
   ],
   "source": [
    "grid_lin.grid_scores_"
   ]
  },
  {
   "cell_type": "code",
   "execution_count": 10,
   "metadata": {
    "collapsed": false
   },
   "outputs": [
    {
     "data": {
      "text/plain": [
       "{'lamda': 0.1}"
      ]
     },
     "execution_count": 10,
     "metadata": {},
     "output_type": "execute_result"
    }
   ],
   "source": [
    "grid_lin.best_params_"
   ]
  },
  {
   "cell_type": "code",
   "execution_count": 11,
   "metadata": {
    "collapsed": false
   },
   "outputs": [
    {
     "name": "stdout",
     "output_type": "stream",
     "text": [
      "The R squared value of Linear kernel is 0.5295132699593408\n"
     ]
    }
   ],
   "source": [
    "print(\"The R squared value of Linear kernel is \"+ str(grid_lin.best_score_))"
   ]
  },
  {
   "cell_type": "markdown",
   "metadata": {},
   "source": [
    "<p>Polynomial kernel: This kernel represents the similarity of training data in feature space over the polynomials of original variables. The polynomial kernel can be expressed as</p>\n",
    " <h4>k(x,x’)=(γxTx’+r)M</h4>\n",
    "<p>We use grid search to perform kfold cross validation and tuning of hyper parameters, gamma(γ), lamda (λ),‘M ‘ (degree of polynomial) and we have taken r=’1’</p>\n"
   ]
  },
  {
   "cell_type": "code",
   "execution_count": 12,
   "metadata": {
    "collapsed": false
   },
   "outputs": [],
   "source": [
    "class Polynomial_kernel(BaseEstimator, RegressorMixin):\n",
    "    \n",
    "    def __init__(self,lamda=0.5,gamma=1,m=3):\n",
    "        \n",
    "        self.lamda=lamda\n",
    "        self.gamma=gamma\n",
    "        self.m=m\n",
    "        \n",
    "    def fit(self,X_train,Y_train):\n",
    "        \n",
    "        k = self.gamma * (X_train * np.transpose(X_train))\n",
    "        \n",
    "        nrows,ncols=k.shape\n",
    "        r=np.ones(nrows)\n",
    "        a= np.power((k+r),self.m)\n",
    "        \n",
    "        Identity=(np.identity(nrows))\n",
    "        lamdaI=self.lamda*Identity\n",
    "        Second=np.linalg.pinv(a+lamdaI)\n",
    "\n",
    "        k_x= self.gamma * (X_train * np.transpose(X_test))\n",
    "        nrows1,ncols1=k_x.shape\n",
    "        r1=np.ones((nrows1,ncols1))\n",
    "        k_x_tran=np.transpose(np.power((k_x+r1),self.m))\n",
    "\n",
    "        res=np.dot(k_x_tran,Second)\n",
    "        self.y_pred_poly_ourmodel=np.dot(res,Y_train)\n",
    "\n",
    "        return self\n",
    "    \n",
    "    def score(self,X_train,Y_train):\n",
    "        \n",
    "        score_poly_ourmodel=sklearn.metrics.r2_score(Y_test, self.y_pred_poly_ourmodel)\n",
    "        return score_poly_ourmodel "
   ]
  },
  {
   "cell_type": "code",
   "execution_count": 13,
   "metadata": {
    "collapsed": true
   },
   "outputs": [],
   "source": [
    "tuned_params_poly = {\"lamda\":[1e0,0.1,1e-2,1e-3,0.5,2,3,5], \"gamma\":[0.001,0.0001,0.01,0.1,1,0.5,2,3],'m':[2,3,4,10,100,6]}"
   ]
  },
  {
   "cell_type": "code",
   "execution_count": 14,
   "metadata": {
    "collapsed": true
   },
   "outputs": [],
   "source": [
    "grid_poly = GridSearchCV(Polynomial_kernel(), tuned_params_poly, cv=5)"
   ]
  },
  {
   "cell_type": "code",
   "execution_count": 15,
   "metadata": {
    "collapsed": false
   },
   "outputs": [
    {
     "data": {
      "text/plain": [
       "GridSearchCV(cv=5, error_score='raise',\n",
       "       estimator=Polynomial_kernel(gamma=1, lamda=0.5, m=3), fit_params={},\n",
       "       iid=True, n_jobs=1,\n",
       "       param_grid={'m': [2, 3, 4, 10, 100, 6], 'gamma': [0.001, 0.0001, 0.01, 0.1, 1, 0.5, 2, 3], 'lamda': [1.0, 0.1, 0.01, 0.001, 0.5, 2, 3, 5]},\n",
       "       pre_dispatch='2*n_jobs', refit=True, scoring=None, verbose=0)"
      ]
     },
     "execution_count": 15,
     "metadata": {},
     "output_type": "execute_result"
    }
   ],
   "source": [
    "grid_poly.fit(X_train,Y_train)"
   ]
  },
  {
   "cell_type": "code",
   "execution_count": 16,
   "metadata": {
    "collapsed": false,
    "scrolled": false
   },
   "outputs": [
    {
     "data": {
      "text/plain": [
       "[mean: 0.17763, std: 0.00595, params: {'m': 2, 'gamma': 0.001, 'lamda': 1.0},\n",
       " mean: 0.23144, std: 0.00666, params: {'m': 3, 'gamma': 0.001, 'lamda': 1.0},\n",
       " mean: 0.27153, std: 0.00692, params: {'m': 4, 'gamma': 0.001, 'lamda': 1.0},\n",
       " mean: 0.38241, std: 0.00599, params: {'m': 10, 'gamma': 0.001, 'lamda': 1.0},\n",
       " mean: 0.46550, std: 0.00250, params: {'m': 100, 'gamma': 0.001, 'lamda': 1.0},\n",
       " mean: 0.32593, std: 0.00683, params: {'m': 6, 'gamma': 0.001, 'lamda': 1.0},\n",
       " mean: 0.42685, std: 0.00442, params: {'m': 2, 'gamma': 0.001, 'lamda': 0.1},\n",
       " mean: 0.44119, std: 0.00336, params: {'m': 3, 'gamma': 0.001, 'lamda': 0.1},\n",
       " mean: 0.44751, std: 0.00269, params: {'m': 4, 'gamma': 0.001, 'lamda': 0.1},\n",
       " mean: 0.45984, std: 0.00165, params: {'m': 10, 'gamma': 0.001, 'lamda': 0.1},\n",
       " mean: 0.51676, std: 0.00144, params: {'m': 100, 'gamma': 0.001, 'lamda': 0.1},\n",
       " mean: 0.45352, std: 0.00196, params: {'m': 6, 'gamma': 0.001, 'lamda': 0.1},\n",
       " mean: 0.46933, std: 0.00202, params: {'m': 2, 'gamma': 0.001, 'lamda': 0.01},\n",
       " mean: 0.47700, std: 0.00242, params: {'m': 3, 'gamma': 0.001, 'lamda': 0.01},\n",
       " mean: 0.48336, std: 0.00265, params: {'m': 4, 'gamma': 0.001, 'lamda': 0.01},\n",
       " mean: 0.50648, std: 0.00266, params: {'m': 10, 'gamma': 0.001, 'lamda': 0.01},\n",
       " mean: 0.53694, std: 0.00144, params: {'m': 100, 'gamma': 0.001, 'lamda': 0.01},\n",
       " mean: 0.49331, std: 0.00282, params: {'m': 6, 'gamma': 0.001, 'lamda': 0.01},\n",
       " mean: 0.51676, std: 0.00249, params: {'m': 2, 'gamma': 0.001, 'lamda': 0.001},\n",
       " mean: 0.52321, std: 0.00220, params: {'m': 3, 'gamma': 0.001, 'lamda': 0.001},\n",
       " mean: 0.52704, std: 0.00198, params: {'m': 4, 'gamma': 0.001, 'lamda': 0.001},\n",
       " mean: 0.53498, std: 0.00125, params: {'m': 10, 'gamma': 0.001, 'lamda': 0.001},\n",
       " mean: 0.53888, std: 0.00294, params: {'m': 100, 'gamma': 0.001, 'lamda': 0.001},\n",
       " mean: 0.53138, std: 0.00165, params: {'m': 6, 'gamma': 0.001, 'lamda': 0.001},\n",
       " mean: 0.26973, std: 0.00693, params: {'m': 2, 'gamma': 0.001, 'lamda': 0.5},\n",
       " mean: 0.32392, std: 0.00687, params: {'m': 3, 'gamma': 0.001, 'lamda': 0.5},\n",
       " mean: 0.35796, std: 0.00651, params: {'m': 4, 'gamma': 0.001, 'lamda': 0.5},\n",
       " mean: 0.42744, std: 0.00429, params: {'m': 10, 'gamma': 0.001, 'lamda': 0.5},\n",
       " mean: 0.48205, std: 0.00262, params: {'m': 100, 'gamma': 0.001, 'lamda': 0.5},\n",
       " mean: 0.39634, std: 0.00565, params: {'m': 6, 'gamma': 0.001, 'lamda': 0.5},\n",
       " mean: 0.10434, std: 0.00455, params: {'m': 2, 'gamma': 0.001, 'lamda': 2},\n",
       " mean: 0.14528, std: 0.00541, params: {'m': 3, 'gamma': 0.001, 'lamda': 2},\n",
       " mean: 0.17985, std: 0.00602, params: {'m': 4, 'gamma': 0.001, 'lamda': 2},\n",
       " mean: 0.30589, std: 0.00690, params: {'m': 10, 'gamma': 0.001, 'lamda': 2},\n",
       " mean: 0.45054, std: 0.00211, params: {'m': 100, 'gamma': 0.001, 'lamda': 2},\n",
       " mean: 0.23445, std: 0.00669, params: {'m': 6, 'gamma': 0.001, 'lamda': 2},\n",
       " mean: 0.07315, std: 0.00399, params: {'m': 2, 'gamma': 0.001, 'lamda': 3},\n",
       " mean: 0.10527, std: 0.00469, params: {'m': 3, 'gamma': 0.001, 'lamda': 3},\n",
       " mean: 0.13380, std: 0.00527, params: {'m': 4, 'gamma': 0.001, 'lamda': 3},\n",
       " mean: 0.25239, std: 0.00682, params: {'m': 10, 'gamma': 0.001, 'lamda': 3},\n",
       " mean: 0.44225, std: 0.00225, params: {'m': 100, 'gamma': 0.001, 'lamda': 3},\n",
       " mean: 0.18198, std: 0.00610, params: {'m': 6, 'gamma': 0.001, 'lamda': 3},\n",
       " mean: 0.04421, std: 0.00381, params: {'m': 2, 'gamma': 0.001, 'lamda': 5},\n",
       " mean: 0.06667, std: 0.00421, params: {'m': 3, 'gamma': 0.001, 'lamda': 5},\n",
       " mean: 0.08753, std: 0.00460, params: {'m': 4, 'gamma': 0.001, 'lamda': 5},\n",
       " mean: 0.18601, std: 0.00626, params: {'m': 10, 'gamma': 0.001, 'lamda': 5},\n",
       " mean: 0.43012, std: 0.00307, params: {'m': 100, 'gamma': 0.001, 'lamda': 5},\n",
       " mean: 0.12500, std: 0.00531, params: {'m': 6, 'gamma': 0.001, 'lamda': 5},\n",
       " mean: 0.02170, std: 0.00256, params: {'m': 2, 'gamma': 0.0001, 'lamda': 1.0},\n",
       " mean: 0.03334, std: 0.00277, params: {'m': 3, 'gamma': 0.0001, 'lamda': 1.0},\n",
       " mean: 0.04453, std: 0.00300, params: {'m': 4, 'gamma': 0.0001, 'lamda': 1.0},\n",
       " mean: 0.10356, std: 0.00442, params: {'m': 10, 'gamma': 0.0001, 'lamda': 1.0},\n",
       " mean: 0.38256, std: 0.00598, params: {'m': 100, 'gamma': 0.0001, 'lamda': 1.0},\n",
       " mean: 0.06569, std: 0.00350, params: {'m': 6, 'gamma': 0.0001, 'lamda': 1.0},\n",
       " mean: 0.17590, std: 0.00589, params: {'m': 2, 'gamma': 0.0001, 'lamda': 0.1},\n",
       " mean: 0.22898, std: 0.00664, params: {'m': 3, 'gamma': 0.0001, 'lamda': 0.1},\n",
       " mean: 0.26860, std: 0.00693, params: {'m': 4, 'gamma': 0.0001, 'lamda': 0.1},\n",
       " mean: 0.37924, std: 0.00614, params: {'m': 10, 'gamma': 0.0001, 'lamda': 0.1},\n",
       " mean: 0.45986, std: 0.00165, params: {'m': 100, 'gamma': 0.0001, 'lamda': 0.1},\n",
       " mean: 0.32256, std: 0.00690, params: {'m': 6, 'gamma': 0.0001, 'lamda': 0.1},\n",
       " mean: 0.42671, std: 0.00444, params: {'m': 2, 'gamma': 0.0001, 'lamda': 0.01},\n",
       " mean: 0.44118, std: 0.00339, params: {'m': 3, 'gamma': 0.0001, 'lamda': 0.01},\n",
       " mean: 0.44759, std: 0.00273, params: {'m': 4, 'gamma': 0.0001, 'lamda': 0.01},\n",
       " mean: 0.45964, std: 0.00161, params: {'m': 10, 'gamma': 0.0001, 'lamda': 0.01},\n",
       " mean: 0.50678, std: 0.00264, params: {'m': 100, 'gamma': 0.0001, 'lamda': 0.01},\n",
       " mean: 0.45365, std: 0.00199, params: {'m': 6, 'gamma': 0.0001, 'lamda': 0.01},\n",
       " mean: 0.46920, std: 0.00201, params: {'m': 2, 'gamma': 0.0001, 'lamda': 0.001},\n",
       " mean: 0.47658, std: 0.00239, params: {'m': 3, 'gamma': 0.0001, 'lamda': 0.001},\n",
       " mean: 0.48258, std: 0.00263, params: {'m': 4, 'gamma': 0.0001, 'lamda': 0.001},\n",
       " mean: 0.50337, std: 0.00282, params: {'m': 10, 'gamma': 0.0001, 'lamda': 0.001},\n",
       " mean: 0.53518, std: 0.00123, params: {'m': 100, 'gamma': 0.0001, 'lamda': 0.001},\n",
       " mean: 0.49172, std: 0.00283, params: {'m': 6, 'gamma': 0.0001, 'lamda': 0.001},\n",
       " mean: 0.04448, std: 0.00290, params: {'m': 2, 'gamma': 0.0001, 'lamda': 0.5},\n",
       " mean: 0.06546, std: 0.00341, params: {'m': 3, 'gamma': 0.0001, 'lamda': 0.5},\n",
       " mean: 0.08493, std: 0.00390, params: {'m': 4, 'gamma': 0.0001, 'lamda': 0.5},\n",
       " mean: 0.17682, std: 0.00592, params: {'m': 10, 'gamma': 0.0001, 'lamda': 0.5},\n",
       " mean: 0.42744, std: 0.00428, params: {'m': 100, 'gamma': 0.0001, 'lamda': 0.5},\n",
       " mean: 0.11988, std: 0.00475, params: {'m': 6, 'gamma': 0.0001, 'lamda': 0.5},\n",
       " mean: 0.00910, std: 0.00265, params: {'m': 2, 'gamma': 0.0001, 'lamda': 2},\n",
       " mean: 0.01531, std: 0.00271, params: {'m': 3, 'gamma': 0.0001, 'lamda': 2},\n",
       " mean: 0.02140, std: 0.00279, params: {'m': 4, 'gamma': 0.0001, 'lamda': 2},\n",
       " mean: 0.05554, std: 0.00343, params: {'m': 10, 'gamma': 0.0001, 'lamda': 2},\n",
       " mean: 0.30620, std: 0.00689, params: {'m': 100, 'gamma': 0.0001, 'lamda': 2},\n",
       " mean: 0.03322, std: 0.00298, params: {'m': 6, 'gamma': 0.0001, 'lamda': 2},\n",
       " mean: 0.00427, std: 0.00285, params: {'m': 2, 'gamma': 0.0001, 'lamda': 3},\n",
       " mean: 0.00854, std: 0.00288, params: {'m': 3, 'gamma': 0.0001, 'lamda': 3},\n",
       " mean: 0.01276, std: 0.00292, params: {'m': 4, 'gamma': 0.0001, 'lamda': 3},\n",
       " mean: 0.03693, std: 0.00326, params: {'m': 10, 'gamma': 0.0001, 'lamda': 3},\n",
       " mean: 0.25273, std: 0.00682, params: {'m': 100, 'gamma': 0.0001, 'lamda': 3},\n",
       " mean: 0.02102, std: 0.00302, params: {'m': 6, 'gamma': 0.0001, 'lamda': 3},\n",
       " mean: -0.00076, std: 0.00330, params: {'m': 2, 'gamma': 0.0001, 'lamda': 5},\n",
       " mean: 0.00191, std: 0.00331, params: {'m': 3, 'gamma': 0.0001, 'lamda': 5},\n",
       " mean: 0.00456, std: 0.00333, params: {'m': 4, 'gamma': 0.0001, 'lamda': 5},\n",
       " mean: 0.02005, std: 0.00347, params: {'m': 10, 'gamma': 0.0001, 'lamda': 5},\n",
       " mean: 0.18635, std: 0.00627, params: {'m': 100, 'gamma': 0.0001, 'lamda': 5},\n",
       " mean: 0.00981, std: 0.00337, params: {'m': 6, 'gamma': 0.0001, 'lamda': 5},\n",
       " mean: 0.42810, std: 0.00424, params: {'m': 2, 'gamma': 0.01, 'lamda': 1.0},\n",
       " mean: 0.44126, std: 0.00311, params: {'m': 3, 'gamma': 0.01, 'lamda': 1.0},\n",
       " mean: 0.44683, std: 0.00240, params: {'m': 4, 'gamma': 0.01, 'lamda': 1.0},\n",
       " mean: 0.46451, std: 0.00240, params: {'m': 10, 'gamma': 0.01, 'lamda': 1.0},\n",
       " mean: 0.52021, std: 0.01013, params: {'m': 100, 'gamma': 0.01, 'lamda': 1.0},\n",
       " mean: 0.45303, std: 0.00185, params: {'m': 6, 'gamma': 0.01, 'lamda': 1.0},\n",
       " mean: 0.47063, std: 0.00214, params: {'m': 2, 'gamma': 0.01, 'lamda': 0.1},\n",
       " mean: 0.48070, std: 0.00258, params: {'m': 3, 'gamma': 0.01, 'lamda': 0.1},\n",
       " mean: 0.48948, std: 0.00270, params: {'m': 4, 'gamma': 0.01, 'lamda': 0.1},\n",
       " mean: 0.51641, std: 0.00156, params: {'m': 10, 'gamma': 0.01, 'lamda': 0.1},\n",
       " mean: 0.36527, std: 0.12757, params: {'m': 100, 'gamma': 0.01, 'lamda': 0.1},\n",
       " mean: 0.50258, std: 0.00240, params: {'m': 6, 'gamma': 0.01, 'lamda': 0.1},\n",
       " mean: 0.52033, std: 0.00215, params: {'m': 2, 'gamma': 0.01, 'lamda': 0.01},\n",
       " mean: 0.52832, std: 0.00164, params: {'m': 3, 'gamma': 0.01, 'lamda': 0.01},\n",
       " mean: 0.53227, std: 0.00143, params: {'m': 4, 'gamma': 0.01, 'lamda': 0.01},\n",
       " mean: 0.53711, std: 0.00141, params: {'m': 10, 'gamma': 0.01, 'lamda': 0.01},\n",
       " mean: -1.67064, std: 1.24515, params: {'m': 100, 'gamma': 0.01, 'lamda': 0.01},\n",
       " mean: 0.53557, std: 0.00131, params: {'m': 6, 'gamma': 0.01, 'lamda': 0.01},\n",
       " mean: 0.53582, std: 0.00094, params: {'m': 2, 'gamma': 0.01, 'lamda': 0.001},\n",
       " mean: 0.53681, std: 0.00100, params: {'m': 3, 'gamma': 0.01, 'lamda': 0.001},\n",
       " mean: 0.53737, std: 0.00132, params: {'m': 4, 'gamma': 0.01, 'lamda': 0.001},\n",
       " mean: 0.53875, std: 0.00314, params: {'m': 10, 'gamma': 0.01, 'lamda': 0.001},\n",
       " mean: -13.80531, std: 7.04710, params: {'m': 100, 'gamma': 0.01, 'lamda': 0.001},\n",
       " mean: 0.53801, std: 0.00224, params: {'m': 6, 'gamma': 0.01, 'lamda': 0.001},\n",
       " mean: 0.44746, std: 0.00260, params: {'m': 2, 'gamma': 0.01, 'lamda': 0.5},\n",
       " mean: 0.45325, std: 0.00188, params: {'m': 3, 'gamma': 0.01, 'lamda': 0.5},\n",
       " mean: 0.45724, std: 0.00173, params: {'m': 4, 'gamma': 0.01, 'lamda': 0.5},\n",
       " mean: 0.48080, std: 0.00265, params: {'m': 10, 'gamma': 0.01, 'lamda': 0.5},\n",
       " mean: 0.48841, std: 0.05493, params: {'m': 100, 'gamma': 0.01, 'lamda': 0.5},\n",
       " mean: 0.46512, std: 0.00214, params: {'m': 6, 'gamma': 0.01, 'lamda': 0.5},\n",
       " mean: 0.38439, std: 0.00591, params: {'m': 2, 'gamma': 0.01, 'lamda': 2},\n",
       " mean: 0.41516, std: 0.00482, params: {'m': 3, 'gamma': 0.01, 'lamda': 2},\n",
       " mean: 0.42916, std: 0.00395, params: {'m': 4, 'gamma': 0.01, 'lamda': 2},\n",
       " mean: 0.45031, std: 0.00202, params: {'m': 10, 'gamma': 0.01, 'lamda': 2},\n",
       " mean: 0.51423, std: 0.01210, params: {'m': 100, 'gamma': 0.01, 'lamda': 2},\n",
       " mean: 0.44076, std: 0.00276, params: {'m': 6, 'gamma': 0.01, 'lamda': 2},\n",
       " mean: 0.34412, std: 0.00659, params: {'m': 2, 'gamma': 0.01, 'lamda': 3},\n",
       " mean: 0.38760, std: 0.00575, params: {'m': 3, 'gamma': 0.01, 'lamda': 3},\n",
       " mean: 0.40995, std: 0.00495, params: {'m': 4, 'gamma': 0.01, 'lamda': 3},\n",
       " mean: 0.44243, std: 0.00227, params: {'m': 10, 'gamma': 0.01, 'lamda': 3},\n",
       " mean: 0.50190, std: 0.02629, params: {'m': 100, 'gamma': 0.01, 'lamda': 3},\n",
       " mean: 0.42985, std: 0.00368, params: {'m': 6, 'gamma': 0.01, 'lamda': 3},\n",
       " mean: 0.28157, std: 0.00690, params: {'m': 2, 'gamma': 0.01, 'lamda': 5},\n",
       " mean: 0.33784, std: 0.00659, params: {'m': 3, 'gamma': 0.01, 'lamda': 5},\n",
       " mean: 0.37179, std: 0.00603, params: {'m': 4, 'gamma': 0.01, 'lamda': 5},\n",
       " mean: 0.43048, std: 0.00317, params: {'m': 10, 'gamma': 0.01, 'lamda': 5},\n",
       " mean: 0.48881, std: 0.03833, params: {'m': 100, 'gamma': 0.01, 'lamda': 5},\n",
       " mean: 0.40701, std: 0.00489, params: {'m': 6, 'gamma': 0.01, 'lamda': 5},\n",
       " mean: 0.47939, std: 0.00263, params: {'m': 2, 'gamma': 0.1, 'lamda': 1.0},\n",
       " mean: 0.49697, std: 0.00215, params: {'m': 3, 'gamma': 0.1, 'lamda': 1.0},\n",
       " mean: 0.50651, std: 0.00136, params: {'m': 4, 'gamma': 0.1, 'lamda': 1.0},\n",
       " mean: 0.52334, std: 0.00689, params: {'m': 10, 'gamma': 0.1, 'lamda': 1.0},\n",
       " mean: -4219332659360.57129, std: 8424488829911.53711, params: {'m': 100, 'gamma': 0.1, 'lamda': 1.0},\n",
       " mean: 0.51651, std: 0.00118, params: {'m': 6, 'gamma': 0.1, 'lamda': 1.0},\n",
       " mean: 0.52715, std: 0.00148, params: {'m': 2, 'gamma': 0.1, 'lamda': 0.1},\n",
       " mean: 0.53215, std: 0.00142, params: {'m': 3, 'gamma': 0.1, 'lamda': 0.1},\n",
       " mean: 0.53309, std: 0.00174, params: {'m': 4, 'gamma': 0.1, 'lamda': 0.1},\n",
       " mean: 0.53490, std: 0.00748, params: {'m': 10, 'gamma': 0.1, 'lamda': 0.1},\n",
       " mean: -3844771000251.39697, std: 7675383133945.10352, params: {'m': 100, 'gamma': 0.1, 'lamda': 0.1},\n",
       " mean: 0.53277, std: 0.00390, params: {'m': 6, 'gamma': 0.1, 'lamda': 0.1},\n",
       " mean: 0.53788, std: 0.00184, params: {'m': 2, 'gamma': 0.1, 'lamda': 0.01},\n",
       " mean: 0.53744, std: 0.00342, params: {'m': 3, 'gamma': 0.1, 'lamda': 0.01},\n",
       " mean: 0.53872, std: 0.00331, params: {'m': 4, 'gamma': 0.1, 'lamda': 0.01},\n",
       " mean: 0.51731, std: 0.02898, params: {'m': 10, 'gamma': 0.1, 'lamda': 0.01},\n",
       " mean: -3844770586555.28076, std: 7675382092680.42578, params: {'m': 100, 'gamma': 0.1, 'lamda': 0.01},\n",
       " mean: 0.54327, std: 0.00223, params: {'m': 6, 'gamma': 0.1, 'lamda': 0.01},\n",
       " mean: 0.54143, std: 0.00475, params: {'m': 2, 'gamma': 0.1, 'lamda': 0.001},\n",
       " mean: 0.54388, std: 0.00271, params: {'m': 3, 'gamma': 0.1, 'lamda': 0.001},\n",
       " mean: 0.54637, std: 0.00264, params: {'m': 4, 'gamma': 0.1, 'lamda': 0.001},\n",
       " mean: 0.30871, std: 0.19272, params: {'m': 10, 'gamma': 0.1, 'lamda': 0.001},\n",
       " mean: -3844771087124.05078, std: 7675382261495.70703, params: {'m': 100, 'gamma': 0.1, 'lamda': 0.001},\n",
       " mean: 0.54264, std: 0.00733, params: {'m': 6, 'gamma': 0.1, 'lamda': 0.001},\n",
       " mean: 0.49646, std: 0.00249, params: {'m': 2, 'gamma': 0.1, 'lamda': 0.5},\n",
       " mean: 0.51109, std: 0.00157, params: {'m': 3, 'gamma': 0.1, 'lamda': 0.5},\n",
       " mean: 0.51804, std: 0.00122, params: {'m': 4, 'gamma': 0.1, 'lamda': 0.5},\n",
       " mean: 0.53120, std: 0.00328, params: {'m': 10, 'gamma': 0.1, 'lamda': 0.5},\n",
       " mean: -3835248909172.12109, std: 7656339050695.50488, params: {'m': 100, 'gamma': 0.1, 'lamda': 0.5},\n",
       " mean: 0.52434, std: 0.00137, params: {'m': 6, 'gamma': 0.1, 'lamda': 0.5},\n",
       " mean: 0.46365, std: 0.00225, params: {'m': 2, 'gamma': 0.1, 'lamda': 2},\n",
       " mean: 0.48066, std: 0.00269, params: {'m': 3, 'gamma': 0.1, 'lamda': 2},\n",
       " mean: 0.49297, std: 0.00191, params: {'m': 4, 'gamma': 0.1, 'lamda': 2},\n",
       " mean: 0.51617, std: 0.00615, params: {'m': 10, 'gamma': 0.1, 'lamda': 2},\n",
       " mean: -4509335284281.94629, std: 9004507665354.06250, params: {'m': 100, 'gamma': 0.1, 'lamda': 2},\n",
       " mean: 0.50545, std: 0.00116, params: {'m': 6, 'gamma': 0.1, 'lamda': 2},\n",
       " mean: 0.45585, std: 0.00199, params: {'m': 2, 'gamma': 0.1, 'lamda': 3},\n",
       " mean: 0.47058, std: 0.00280, params: {'m': 3, 'gamma': 0.1, 'lamda': 3},\n",
       " mean: 0.48416, std: 0.00236, params: {'m': 4, 'gamma': 0.1, 'lamda': 3},\n",
       " mean: 0.51215, std: 0.00390, params: {'m': 10, 'gamma': 0.1, 'lamda': 3},\n",
       " mean: -285849374772655.75000, std: 571684586554158.87500, params: {'m': 100, 'gamma': 0.1, 'lamda': 3},\n",
       " mean: 0.49815, std: 0.00120, params: {'m': 6, 'gamma': 0.1, 'lamda': 3},\n",
       " mean: 0.44715, std: 0.00205, params: {'m': 2, 'gamma': 0.1, 'lamda': 5},\n",
       " mean: 0.45803, std: 0.00267, params: {'m': 3, 'gamma': 0.1, 'lamda': 5},\n",
       " mean: 0.47202, std: 0.00288, params: {'m': 4, 'gamma': 0.1, 'lamda': 5},\n",
       " mean: 0.50611, std: 0.00139, params: {'m': 10, 'gamma': 0.1, 'lamda': 5},\n",
       " mean: -273683982744667.31250, std: 547353791977492.93750, params: {'m': 100, 'gamma': 0.1, 'lamda': 5},\n",
       " mean: 0.48861, std: 0.00136, params: {'m': 6, 'gamma': 0.1, 'lamda': 5},\n",
       " mean: 0.53183, std: 0.00178, params: {'m': 2, 'gamma': 1, 'lamda': 1.0},\n",
       " mean: 0.53415, std: 0.00484, params: {'m': 3, 'gamma': 1, 'lamda': 1.0},\n",
       " mean: 0.54097, std: 0.00311, params: {'m': 4, 'gamma': 1, 'lamda': 1.0},\n",
       " mean: -590.07379, std: 768.00147, params: {'m': 10, 'gamma': 1, 'lamda': 1.0},\n",
       " mean: -6546461269395775488.00000, std: 13092922538057213952.00000, params: {'m': 100, 'gamma': 1, 'lamda': 1.0},\n",
       " mean: 0.28002, std: 0.21331, params: {'m': 6, 'gamma': 1, 'lamda': 1.0},\n",
       " mean: 0.53800, std: 0.00494, params: {'m': 2, 'gamma': 1, 'lamda': 0.1},\n",
       " mean: 0.54625, std: 0.00327, params: {'m': 3, 'gamma': 1, 'lamda': 0.1},\n",
       " mean: 0.53657, std: 0.01104, params: {'m': 4, 'gamma': 1, 'lamda': 0.1},\n",
       " mean: -2289.48715, std: 1576.66399, params: {'m': 10, 'gamma': 1, 'lamda': 0.1},\n",
       " mean: -6546461269395775488.00000, std: 13092922538057213952.00000, params: {'m': 100, 'gamma': 1, 'lamda': 0.1},\n",
       " mean: -0.43857, std: 1.05375, params: {'m': 6, 'gamma': 1, 'lamda': 0.1},\n",
       " mean: 0.54655, std: 0.00525, params: {'m': 2, 'gamma': 1, 'lamda': 0.01},\n",
       " mean: 0.54053, std: 0.00824, params: {'m': 3, 'gamma': 1, 'lamda': 0.01},\n",
       " mean: 0.48076, std: 0.04437, params: {'m': 4, 'gamma': 1, 'lamda': 0.01},\n",
       " mean: -26597.55256, std: 45000.34781, params: {'m': 10, 'gamma': 1, 'lamda': 0.01},\n",
       " mean: -6546461269395775488.00000, std: 13092922538057213952.00000, params: {'m': 100, 'gamma': 1, 'lamda': 0.01},\n",
       " mean: -5.78092, std: 5.01898, params: {'m': 6, 'gamma': 1, 'lamda': 0.01},\n",
       " mean: 0.54284, std: 0.00682, params: {'m': 2, 'gamma': 1, 'lamda': 0.001},\n",
       " mean: 0.51124, std: 0.01776, params: {'m': 3, 'gamma': 1, 'lamda': 0.001},\n",
       " mean: 0.32787, std: 0.19889, params: {'m': 4, 'gamma': 1, 'lamda': 0.001},\n",
       " mean: -272367.93385, std: 464971.34421, params: {'m': 10, 'gamma': 1, 'lamda': 0.001},\n",
       " mean: -6546461269395775488.00000, std: 13092922538057213952.00000, params: {'m': 100, 'gamma': 1, 'lamda': 0.001},\n",
       " mean: -17.34980, std: 15.26330, params: {'m': 6, 'gamma': 1, 'lamda': 0.001},\n",
       " mean: 0.53385, std: 0.00255, params: {'m': 2, 'gamma': 1, 'lamda': 0.5},\n",
       " mean: 0.53916, std: 0.00403, params: {'m': 3, 'gamma': 1, 'lamda': 0.5},\n",
       " mean: 0.54101, std: 0.00506, params: {'m': 4, 'gamma': 1, 'lamda': 0.5},\n",
       " mean: -823.77626, std: 1029.96250, params: {'m': 10, 'gamma': 1, 'lamda': 0.5},\n",
       " mean: -6546461269395775488.00000, std: 13092922538057213952.00000, params: {'m': 100, 'gamma': 1, 'lamda': 0.5},\n",
       " mean: 0.15975, std: 0.32353, params: {'m': 6, 'gamma': 1, 'lamda': 0.5},\n",
       " mean: 0.52742, std: 0.00151, params: {'m': 2, 'gamma': 1, 'lamda': 2},\n",
       " mean: 0.52968, std: 0.00455, params: {'m': 3, 'gamma': 1, 'lamda': 2},\n",
       " mean: 0.53987, std: 0.00216, params: {'m': 4, 'gamma': 1, 'lamda': 2},\n",
       " mean: -462.99147, std: 522.57753, params: {'m': 10, 'gamma': 1, 'lamda': 2},\n",
       " mean: -6546461269395775488.00000, std: 13092922538057213952.00000, params: {'m': 100, 'gamma': 1, 'lamda': 2},\n",
       " mean: 0.38175, std: 0.14042, params: {'m': 6, 'gamma': 1, 'lamda': 2},\n",
       " mean: 0.52330, std: 0.00146, params: {'m': 2, 'gamma': 1, 'lamda': 3},\n",
       " mean: 0.52757, std: 0.00382, params: {'m': 3, 'gamma': 1, 'lamda': 3},\n",
       " mean: 0.53804, std: 0.00213, params: {'m': 4, 'gamma': 1, 'lamda': 3},\n",
       " mean: -416.08460, std: 404.55674, params: {'m': 10, 'gamma': 1, 'lamda': 3},\n",
       " mean: -6546461269395775488.00000, std: 13092922538057213952.00000, params: {'m': 100, 'gamma': 1, 'lamda': 3},\n",
       " mean: 0.43034, std: 0.10449, params: {'m': 6, 'gamma': 1, 'lamda': 3},\n",
       " mean: 0.51646, std: 0.00150, params: {'m': 2, 'gamma': 1, 'lamda': 5},\n",
       " mean: 0.52511, std: 0.00266, params: {'m': 3, 'gamma': 1, 'lamda': 5},\n",
       " mean: 0.53413, std: 0.00319, params: {'m': 4, 'gamma': 1, 'lamda': 5},\n",
       " mean: -363.39053, std: 298.45505, params: {'m': 10, 'gamma': 1, 'lamda': 5},\n",
       " mean: -6546461269395775488.00000, std: 13092922538057213952.00000, params: {'m': 100, 'gamma': 1, 'lamda': 5},\n",
       " mean: 0.47524, std: 0.06393, params: {'m': 6, 'gamma': 1, 'lamda': 5},\n",
       " mean: 0.52409, std: 0.00146, params: {'m': 2, 'gamma': 0.5, 'lamda': 1.0},\n",
       " mean: 0.52840, std: 0.00236, params: {'m': 3, 'gamma': 0.5, 'lamda': 1.0},\n",
       " mean: 0.53143, std: 0.00451, params: {'m': 4, 'gamma': 0.5, 'lamda': 1.0},\n",
       " mean: -10.13101, std: 9.42763, params: {'m': 10, 'gamma': 0.5, 'lamda': 1.0},\n",
       " mean: -18017554598581712.00000, std: 36035104323552672.00000, params: {'m': 100, 'gamma': 0.5, 'lamda': 1.0},\n",
       " mean: 0.52568, std: 0.02153, params: {'m': 6, 'gamma': 0.5, 'lamda': 1.0},\n",
       " mean: 0.53593, std: 0.00297, params: {'m': 2, 'gamma': 0.5, 'lamda': 0.1},\n",
       " mean: 0.53920, std: 0.00397, params: {'m': 3, 'gamma': 0.5, 'lamda': 0.1},\n",
       " mean: 0.54306, std: 0.00295, params: {'m': 4, 'gamma': 0.5, 'lamda': 0.1},\n",
       " mean: -86.19537, std: 59.39981, params: {'m': 10, 'gamma': 0.5, 'lamda': 0.1},\n",
       " mean: -18017554598581712.00000, std: 36035104323552672.00000, params: {'m': 100, 'gamma': 0.5, 'lamda': 0.1},\n",
       " mean: 0.46519, std: 0.07367, params: {'m': 6, 'gamma': 0.5, 'lamda': 0.1},\n",
       " mean: 0.54292, std: 0.00544, params: {'m': 2, 'gamma': 0.5, 'lamda': 0.01},\n",
       " mean: 0.54712, std: 0.00362, params: {'m': 3, 'gamma': 0.5, 'lamda': 0.01},\n",
       " mean: 0.53849, std: 0.01024, params: {'m': 4, 'gamma': 0.5, 'lamda': 0.01},\n",
       " mean: -213.94171, std: 242.85020, params: {'m': 10, 'gamma': 0.5, 'lamda': 0.01},\n",
       " mean: -18017554598581712.00000, std: 36035104323552672.00000, params: {'m': 100, 'gamma': 0.5, 'lamda': 0.01},\n",
       " mean: 0.16917, std: 0.34633, params: {'m': 6, 'gamma': 0.5, 'lamda': 0.01},\n",
       " mean: 0.54636, std: 0.00515, params: {'m': 2, 'gamma': 0.5, 'lamda': 0.001},\n",
       " mean: 0.53739, std: 0.00973, params: {'m': 3, 'gamma': 0.5, 'lamda': 0.001},\n",
       " mean: 0.48677, std: 0.04007, params: {'m': 4, 'gamma': 0.5, 'lamda': 0.001},\n",
       " mean: -757.34245, std: 728.75082, params: {'m': 10, 'gamma': 0.5, 'lamda': 0.001},\n",
       " mean: -18017554598581712.00000, std: 36035104323552672.00000, params: {'m': 100, 'gamma': 0.5, 'lamda': 0.001},\n",
       " mean: -1.60334, std: 1.92533, params: {'m': 6, 'gamma': 0.5, 'lamda': 0.001},\n",
       " mean: 0.53081, std: 0.00154, params: {'m': 2, 'gamma': 0.5, 'lamda': 0.5},\n",
       " mean: 0.53101, std: 0.00372, params: {'m': 3, 'gamma': 0.5, 'lamda': 0.5},\n",
       " mean: 0.53715, std: 0.00283, params: {'m': 4, 'gamma': 0.5, 'lamda': 0.5},\n",
       " mean: -19.89758, std: 14.29347, params: {'m': 10, 'gamma': 0.5, 'lamda': 0.5},\n",
       " mean: -18017554598581712.00000, std: 36035104323552672.00000, params: {'m': 100, 'gamma': 0.5, 'lamda': 0.5},\n",
       " mean: 0.52394, std: 0.01981, params: {'m': 6, 'gamma': 0.5, 'lamda': 0.5},\n",
       " mean: 0.51390, std: 0.00160, params: {'m': 2, 'gamma': 0.5, 'lamda': 2},\n",
       " mean: 0.52422, std: 0.00147, params: {'m': 3, 'gamma': 0.5, 'lamda': 2},\n",
       " mean: 0.52584, std: 0.00471, params: {'m': 4, 'gamma': 0.5, 'lamda': 2},\n",
       " mean: -6.41973, std: 6.32005, params: {'m': 10, 'gamma': 0.5, 'lamda': 2},\n",
       " mean: -18017554598581712.00000, std: 36035104323552672.00000, params: {'m': 100, 'gamma': 0.5, 'lamda': 2},\n",
       " mean: 0.52721, std: 0.01510, params: {'m': 6, 'gamma': 0.5, 'lamda': 2},\n",
       " mean: 0.50643, std: 0.00186, params: {'m': 2, 'gamma': 0.5, 'lamda': 3},\n",
       " mean: 0.52034, std: 0.00130, params: {'m': 3, 'gamma': 0.5, 'lamda': 3},\n",
       " mean: 0.52305, std: 0.00387, params: {'m': 4, 'gamma': 0.5, 'lamda': 3},\n",
       " mean: -5.46744, std: 4.96806, params: {'m': 10, 'gamma': 0.5, 'lamda': 3},\n",
       " mean: -18017554598581712.00000, std: 36035104323552672.00000, params: {'m': 100, 'gamma': 0.5, 'lamda': 3},\n",
       " mean: 0.52921, std: 0.00865, params: {'m': 6, 'gamma': 0.5, 'lamda': 3},\n",
       " mean: 0.49559, std: 0.00232, params: {'m': 2, 'gamma': 0.5, 'lamda': 5},\n",
       " mean: 0.51385, std: 0.00125, params: {'m': 3, 'gamma': 0.5, 'lamda': 5},\n",
       " mean: 0.51963, std: 0.00236, params: {'m': 4, 'gamma': 0.5, 'lamda': 5},\n",
       " mean: -4.66141, std: 3.72262, params: {'m': 10, 'gamma': 0.5, 'lamda': 5},\n",
       " mean: -18017554598581712.00000, std: 36035104323552672.00000, params: {'m': 100, 'gamma': 0.5, 'lamda': 5},\n",
       " mean: 0.53120, std: 0.00235, params: {'m': 6, 'gamma': 0.5, 'lamda': 5},\n",
       " mean: 0.53395, std: 0.00359, params: {'m': 2, 'gamma': 2, 'lamda': 1.0},\n",
       " mean: 0.54489, std: 0.00318, params: {'m': 3, 'gamma': 2, 'lamda': 1.0},\n",
       " mean: 0.53342, std: 0.01280, params: {'m': 4, 'gamma': 2, 'lamda': 1.0},\n",
       " mean: -164954.04429, std: 277627.97773, params: {'m': 10, 'gamma': 2, 'lamda': 1.0},\n",
       " mean: -2018123848067055872.00000, std: 4036247696130765312.00000, params: {'m': 100, 'gamma': 2, 'lamda': 1.0},\n",
       " mean: -3.04327, std: 3.28932, params: {'m': 6, 'gamma': 2, 'lamda': 1.0},\n",
       " mean: 0.54369, std: 0.00563, params: {'m': 2, 'gamma': 2, 'lamda': 0.1},\n",
       " mean: 0.54253, std: 0.00709, params: {'m': 3, 'gamma': 2, 'lamda': 0.1},\n",
       " mean: 0.46889, std: 0.05272, params: {'m': 4, 'gamma': 2, 'lamda': 0.1},\n",
       " mean: -626828.60650, std: 918631.52743, params: {'m': 10, 'gamma': 2, 'lamda': 0.1},\n",
       " mean: -2018123848067055872.00000, std: 4036247696130765312.00000, params: {'m': 100, 'gamma': 2, 'lamda': 0.1},\n",
       " mean: -14.96601, std: 11.66974, params: {'m': 6, 'gamma': 2, 'lamda': 0.1},\n",
       " mean: 0.54630, std: 0.00562, params: {'m': 2, 'gamma': 2, 'lamda': 0.01},\n",
       " mean: 0.51676, std: 0.01610, params: {'m': 3, 'gamma': 2, 'lamda': 0.01},\n",
       " mean: 0.29108, std: 0.24806, params: {'m': 4, 'gamma': 2, 'lamda': 0.01},\n",
       " mean: -781412.47951, std: 807713.18884, params: {'m': 10, 'gamma': 2, 'lamda': 0.01},\n",
       " mean: -2018123848067055872.00000, std: 4036247696130765312.00000, params: {'m': 100, 'gamma': 2, 'lamda': 0.01},\n",
       " mean: -37.61646, std: 37.11854, params: {'m': 6, 'gamma': 2, 'lamda': 0.01},\n",
       " mean: 0.53309, std: 0.00960, params: {'m': 2, 'gamma': 2, 'lamda': 0.001},\n",
       " mean: 0.46169, std: 0.03733, params: {'m': 3, 'gamma': 2, 'lamda': 0.001},\n",
       " mean: -0.21521, std: 0.78920, params: {'m': 4, 'gamma': 2, 'lamda': 0.001},\n",
       " mean: -1142562.48210, std: 630304.93664, params: {'m': 10, 'gamma': 2, 'lamda': 0.001},\n",
       " mean: -2018123848067055872.00000, std: 4036247696130765312.00000, params: {'m': 100, 'gamma': 2, 'lamda': 0.001},\n",
       " mean: -128.57702, std: 128.02586, params: {'m': 6, 'gamma': 2, 'lamda': 0.001},\n",
       " mean: 0.53607, std: 0.00466, params: {'m': 2, 'gamma': 2, 'lamda': 0.5},\n",
       " mean: 0.54621, std: 0.00369, params: {'m': 3, 'gamma': 2, 'lamda': 0.5},\n",
       " mean: 0.52288, std: 0.02011, params: {'m': 4, 'gamma': 2, 'lamda': 0.5},\n",
       " mean: -307795.60257, std: 511223.16287, params: {'m': 10, 'gamma': 2, 'lamda': 0.5},\n",
       " mean: -2018123848067055872.00000, std: 4036247696130765312.00000, params: {'m': 100, 'gamma': 2, 'lamda': 0.5},\n",
       " mean: -5.78177, std: 5.19726, params: {'m': 6, 'gamma': 2, 'lamda': 0.5},\n",
       " mean: 0.53235, std: 0.00246, params: {'m': 2, 'gamma': 2, 'lamda': 2},\n",
       " mean: 0.54167, std: 0.00352, params: {'m': 3, 'gamma': 2, 'lamda': 2},\n",
       " mean: 0.53780, std: 0.00903, params: {'m': 4, 'gamma': 2, 'lamda': 2},\n",
       " mean: -75149.37887, std: 125365.94099, params: {'m': 10, 'gamma': 2, 'lamda': 2},\n",
       " mean: -2018123848067055872.00000, std: 4036247696130765312.00000, params: {'m': 100, 'gamma': 2, 'lamda': 2},\n",
       " mean: -1.39653, std: 2.02317, params: {'m': 6, 'gamma': 2, 'lamda': 2},\n",
       " mean: 0.53113, std: 0.00195, params: {'m': 2, 'gamma': 2, 'lamda': 3},\n",
       " mean: 0.53888, std: 0.00412, params: {'m': 3, 'gamma': 2, 'lamda': 3},\n",
       " mean: 0.53865, std: 0.00786, params: {'m': 4, 'gamma': 2, 'lamda': 3},\n",
       " mean: -44780.01583, std: 73621.98816, params: {'m': 10, 'gamma': 2, 'lamda': 3},\n",
       " mean: -2018123848067055872.00000, std: 4036247696130765312.00000, params: {'m': 100, 'gamma': 2, 'lamda': 3},\n",
       " mean: -0.83573, std: 1.51224, params: {'m': 6, 'gamma': 2, 'lamda': 3},\n",
       " mean: 0.52863, std: 0.00160, params: {'m': 2, 'gamma': 2, 'lamda': 5},\n",
       " mean: 0.53475, std: 0.00487, params: {'m': 3, 'gamma': 2, 'lamda': 5},\n",
       " mean: 0.53900, std: 0.00629, params: {'m': 4, 'gamma': 2, 'lamda': 5},\n",
       " mean: -23199.27203, std: 35950.13119, params: {'m': 10, 'gamma': 2, 'lamda': 5},\n",
       " mean: -2018123848067055872.00000, std: 4036247696130765312.00000, params: {'m': 100, 'gamma': 2, 'lamda': 5},\n",
       " mean: -0.41002, std: 1.04067, params: {'m': 6, 'gamma': 2, 'lamda': 5},\n",
       " mean: 0.53606, std: 0.00480, params: {'m': 2, 'gamma': 3, 'lamda': 1.0},\n",
       " mean: 0.54599, std: 0.00441, params: {'m': 3, 'gamma': 3, 'lamda': 1.0},\n",
       " mean: 0.49939, std: 0.03390, params: {'m': 4, 'gamma': 3, 'lamda': 1.0},\n",
       " mean: -693524.80283, std: 402917.54567, params: {'m': 10, 'gamma': 3, 'lamda': 1.0},\n",
       " mean: -5004995594752083968.00000, std: 10009991189499353088.00000, params: {'m': 100, 'gamma': 3, 'lamda': 1.0},\n",
       " mean: -15.73744, std: 12.23576, params: {'m': 6, 'gamma': 3, 'lamda': 1.0},\n",
       " mean: 0.54637, std: 0.00545, params: {'m': 2, 'gamma': 3, 'lamda': 0.1},\n",
       " mean: 0.53266, std: 0.01135, params: {'m': 3, 'gamma': 3, 'lamda': 0.1},\n",
       " mean: 0.37067, std: 0.14671, params: {'m': 4, 'gamma': 3, 'lamda': 0.1},\n",
       " mean: -888073.52211, std: 855022.60611, params: {'m': 10, 'gamma': 3, 'lamda': 0.1},\n",
       " mean: -5004995594752083968.00000, std: 10009991189499353088.00000, params: {'m': 100, 'gamma': 3, 'lamda': 0.1},\n",
       " mean: -38.65854, std: 38.15941, params: {'m': 6, 'gamma': 3, 'lamda': 0.1},\n",
       " mean: 0.54383, std: 0.00670, params: {'m': 2, 'gamma': 3, 'lamda': 0.01},\n",
       " mean: 0.49228, std: 0.02366, params: {'m': 3, 'gamma': 3, 'lamda': 0.01},\n",
       " mean: -0.00812, std: 0.60216, params: {'m': 4, 'gamma': 3, 'lamda': 0.01},\n",
       " mean: -894427.33043, std: 1016148.35815, params: {'m': 10, 'gamma': 3, 'lamda': 0.01},\n",
       " mean: -5004995594752083968.00000, std: 10009991189499353088.00000, params: {'m': 100, 'gamma': 3, 'lamda': 0.01},\n",
       " mean: -133.55263, std: 134.67016, params: {'m': 6, 'gamma': 3, 'lamda': 0.01},\n",
       " mean: 0.52385, std: 0.01038, params: {'m': 2, 'gamma': 3, 'lamda': 0.001},\n",
       " mean: 0.42325, std: 0.05937, params: {'m': 3, 'gamma': 3, 'lamda': 0.001},\n",
       " mean: -0.76303, std: 1.23854, params: {'m': 4, 'gamma': 3, 'lamda': 0.001},\n",
       " mean: -786783.89314, std: 882740.55553, params: {'m': 10, 'gamma': 3, 'lamda': 0.001},\n",
       " mean: -5004995594752083968.00000, std: 10009991189499353088.00000, params: {'m': 100, 'gamma': 3, 'lamda': 0.001},\n",
       " mean: -369.34249, std: 503.05795, params: {'m': 6, 'gamma': 3, 'lamda': 0.001},\n",
       " mean: 0.53938, std: 0.00547, params: {'m': 2, 'gamma': 3, 'lamda': 0.5},\n",
       " mean: 0.54444, std: 0.00587, params: {'m': 3, 'gamma': 3, 'lamda': 0.5},\n",
       " mean: 0.47169, std: 0.05113, params: {'m': 4, 'gamma': 3, 'lamda': 0.5},\n",
       " mean: -939130.64988, std: 820462.74773, params: {'m': 10, 'gamma': 3, 'lamda': 0.5},\n",
       " mean: -5004995594752083968.00000, std: 10009991189499353088.00000, params: {'m': 100, 'gamma': 3, 'lamda': 0.5},\n",
       " mean: -20.03732, std: 16.72193, params: {'m': 6, 'gamma': 3, 'lamda': 0.5},\n",
       " mean: 0.53370, std: 0.00376, params: {'m': 2, 'gamma': 3, 'lamda': 2},\n",
       " mean: 0.54578, std: 0.00349, params: {'m': 3, 'gamma': 3, 'lamda': 2},\n",
       " mean: 0.51944, std: 0.02215, params: {'m': 4, 'gamma': 3, 'lamda': 2},\n",
       " mean: -631383.48079, std: 803660.50453, params: {'m': 10, 'gamma': 3, 'lamda': 2},\n",
       " mean: -5004995594752083968.00000, std: 10009991189499353088.00000, params: {'m': 100, 'gamma': 3, 'lamda': 2},\n",
       " mean: -11.27743, std: 8.97610, params: {'m': 6, 'gamma': 3, 'lamda': 2},\n",
       " mean: 0.53268, std: 0.00306, params: {'m': 2, 'gamma': 3, 'lamda': 3},\n",
       " mean: 0.54485, std: 0.00324, params: {'m': 3, 'gamma': 3, 'lamda': 3},\n",
       " mean: 0.52739, std: 0.01697, params: {'m': 4, 'gamma': 3, 'lamda': 3},\n",
       " mean: -712378.92630, std: 962867.26725, params: {'m': 10, 'gamma': 3, 'lamda': 3},\n",
       " mean: -5004995594752083968.00000, std: 10009991189499353088.00000, params: {'m': 100, 'gamma': 3, 'lamda': 3},\n",
       " mean: -8.72675, std: 7.26732, params: {'m': 6, 'gamma': 3, 'lamda': 3},\n",
       " mean: 0.53140, std: 0.00226, params: {'m': 2, 'gamma': 3, 'lamda': 5},\n",
       " mean: 0.54270, std: 0.00336, params: {'m': 3, 'gamma': 3, 'lamda': 5},\n",
       " mean: 0.53369, std: 0.01220, params: {'m': 4, 'gamma': 3, 'lamda': 5},\n",
       " mean: -660673.86651, std: 989968.23328, params: {'m': 10, 'gamma': 3, 'lamda': 5},\n",
       " mean: -5004995594752083968.00000, std: 10009991189499353088.00000, params: {'m': 100, 'gamma': 3, 'lamda': 5},\n",
       " mean: -5.88720, std: 5.35509, params: {'m': 6, 'gamma': 3, 'lamda': 5}]"
      ]
     },
     "execution_count": 16,
     "metadata": {},
     "output_type": "execute_result"
    }
   ],
   "source": [
    "grid_poly.grid_scores_"
   ]
  },
  {
   "cell_type": "code",
   "execution_count": 17,
   "metadata": {
    "collapsed": false
   },
   "outputs": [
    {
     "data": {
      "text/plain": [
       "{'gamma': 0.5, 'lamda': 0.01, 'm': 3}"
      ]
     },
     "execution_count": 17,
     "metadata": {},
     "output_type": "execute_result"
    }
   ],
   "source": [
    "grid_poly.best_params_"
   ]
  },
  {
   "cell_type": "code",
   "execution_count": 18,
   "metadata": {
    "collapsed": false
   },
   "outputs": [
    {
     "name": "stdout",
     "output_type": "stream",
     "text": [
      "The R squared value of polynomial kernel is 0.5471163251874198\n"
     ]
    }
   ],
   "source": [
    "print(\"The R squared value of polynomial kernel is \"+ str(grid_poly.best_score_))"
   ]
  },
  {
   "cell_type": "markdown",
   "metadata": {},
   "source": [
    "Gaussian kernel: The Gaussian kernel function is expressed as\n",
    " <p align = center> k(x,x’)= exp(│| x-x’|│2/ 2σ2)</p>\n",
    " \n",
    "<p align>We use grid search to perform kfold cross validation and tuning of hyper parameters, sigma(σ) and lamda (λ).</p>\n"
   ]
  },
  {
   "cell_type": "code",
   "execution_count": 29,
   "metadata": {
    "collapsed": true
   },
   "outputs": [],
   "source": [
    "#function for computing gaussian kernel\n",
    "def gauss_ker(x,z,sigma):\n",
    "    sq_dist=np.sum((x-z)**2)\n",
    "    return (np.exp(-sigma*sq_dist))"
   ]
  },
  {
   "cell_type": "code",
   "execution_count": 171,
   "metadata": {
    "collapsed": true
   },
   "outputs": [],
   "source": [
    "class Gaussian_kernel(BaseEstimator, RegressorMixin):\n",
    "    \n",
    "    def __init__(self,lamda=0.5,sigma=0.1):\n",
    "        \n",
    "        self.lamda=lamda\n",
    "        self.sigma=sigma\n",
    "        \n",
    "    def fit(self,X_train,Y_train):\n",
    "        \n",
    "        A=np.squeeze(np.asarray(X_train))\n",
    "        B=np.squeeze(np.asarray(X_test))\n",
    "        m,n=X_train.shape\n",
    "        c,d=X_test.shape\n",
    "        \n",
    "        k=np.zeros((m,m))\n",
    "        for i in range(len(X_train)):\n",
    "            for j in range(len(X_train)):\n",
    "                k[i][j]=gauss_ker(A[i],A[j],self.sigma)\n",
    "        \n",
    "        shape_r,shape_c=k.shape\n",
    "        Identity=(np.identity(shape_r))\n",
    "        lamdaI=self.lamda*Identity\n",
    "        Second=np.linalg.pinv(k+lamdaI)\n",
    "\n",
    "        k1=np.zeros((m,c))\n",
    "        for i in range(len(X_test)):\n",
    "            for j in range(len(X_train)):\n",
    "                k1[j][i]=gauss_ker(A[j],B[i],self.sigma)\n",
    "        \n",
    "        k1_tran=np.transpose(k1)\n",
    "        \n",
    "        res=np.dot(k1_tran,Second)\n",
    "        self.y_pred_gauss_ourmodel=np.dot(res,Y_train)\n",
    "\n",
    "        return self\n",
    "    \n",
    "    def score(self,X_train,Y_train):\n",
    "        \n",
    "        score_gauss_ourmodel=sklearn.metrics.r2_score(Y_test, self.y_pred_gauss_ourmodel)\n",
    "        return score_gauss_ourmodel "
   ]
  },
  {
   "cell_type": "code",
   "execution_count": 172,
   "metadata": {
    "collapsed": true
   },
   "outputs": [],
   "source": [
    "#Range of values for lamda and sigma \n",
    "tuned_params_gauss={\"lamda\":[1e0,0.1,1e-2,1e-3,0.5,2,3,5], \"sigma\":[0.001,0.0001,0.01,0.1,1,0.5,2,3,10]}"
   ]
  },
  {
   "cell_type": "code",
   "execution_count": 173,
   "metadata": {
    "collapsed": true
   },
   "outputs": [],
   "source": [
    "grid_gauss = GridSearchCV(Gaussian_kernel(), tuned_params_gauss, cv=5)"
   ]
  },
  {
   "cell_type": "code",
   "execution_count": 174,
   "metadata": {
    "collapsed": false
   },
   "outputs": [
    {
     "data": {
      "text/plain": [
       "GridSearchCV(cv=5, error_score='raise',\n",
       "       estimator=Gaussian_kernel(lamda=0.5, sigma=0.1), fit_params={},\n",
       "       iid=True, n_jobs=1,\n",
       "       param_grid={'lamda': [1.0, 0.1, 0.01, 0.001, 0.5, 2, 3, 5], 'sigma': [0.001, 0.0001, 0.01, 0.1, 1, 0.5, 2, 3, 10]},\n",
       "       pre_dispatch='2*n_jobs', refit=True, scoring=None, verbose=0)"
      ]
     },
     "execution_count": 174,
     "metadata": {},
     "output_type": "execute_result"
    }
   ],
   "source": [
    "#Fitting the X train, Y_train\n",
    "grid_gauss.fit(X_train,Y_train)"
   ]
  },
  {
   "cell_type": "code",
   "execution_count": 175,
   "metadata": {
    "collapsed": false
   },
   "outputs": [
    {
     "data": {
      "text/plain": [
       "[mean: 0.17508, std: 0.00599, params: {'lamda': 1.0, 'sigma': 0.001},\n",
       " mean: 0.02132, std: 0.00257, params: {'lamda': 1.0, 'sigma': 0.0001},\n",
       " mean: 0.43068, std: 0.00454, params: {'lamda': 1.0, 'sigma': 0.01},\n",
       " mean: 0.49273, std: 0.00132, params: {'lamda': 1.0, 'sigma': 0.1},\n",
       " mean: 0.52344, std: 0.00363, params: {'lamda': 1.0, 'sigma': 1},\n",
       " mean: 0.51895, std: 0.00139, params: {'lamda': 1.0, 'sigma': 0.5},\n",
       " mean: 0.52666, std: 0.00724, params: {'lamda': 1.0, 'sigma': 2},\n",
       " mean: 0.52412, std: 0.00968, params: {'lamda': 1.0, 'sigma': 3},\n",
       " mean: 0.48406, std: 0.01515, params: {'lamda': 1.0, 'sigma': 10},\n",
       " mean: 0.42713, std: 0.00445, params: {'lamda': 0.1, 'sigma': 0.001},\n",
       " mean: 0.17564, std: 0.00589, params: {'lamda': 0.1, 'sigma': 0.0001},\n",
       " mean: 0.47662, std: 0.00189, params: {'lamda': 0.1, 'sigma': 0.01},\n",
       " mean: 0.52869, std: 0.00124, params: {'lamda': 0.1, 'sigma': 0.1},\n",
       " mean: 0.54702, std: 0.00437, params: {'lamda': 0.1, 'sigma': 1},\n",
       " mean: 0.54271, std: 0.00279, params: {'lamda': 0.1, 'sigma': 0.5},\n",
       " mean: 0.54998, std: 0.00786, params: {'lamda': 0.1, 'sigma': 2},\n",
       " mean: 0.54971, std: 0.01092, params: {'lamda': 0.1, 'sigma': 3},\n",
       " mean: 0.51312, std: 0.02346, params: {'lamda': 0.1, 'sigma': 10},\n",
       " mean: 0.47007, std: 0.00200, params: {'lamda': 0.01, 'sigma': 0.001},\n",
       " mean: 0.42674, std: 0.00444, params: {'lamda': 0.01, 'sigma': 0.0001},\n",
       " mean: 0.52355, std: 0.00172, params: {'lamda': 0.01, 'sigma': 0.01},\n",
       " mean: 0.54248, std: 0.00175, params: {'lamda': 0.01, 'sigma': 0.1},\n",
       " mean: 0.55351, std: 0.00696, params: {'lamda': 0.01, 'sigma': 1},\n",
       " mean: 0.54825, std: 0.00395, params: {'lamda': 0.01, 'sigma': 0.5},\n",
       " mean: 0.55259, std: 0.01049, params: {'lamda': 0.01, 'sigma': 2},\n",
       " mean: 0.54669, std: 0.01425, params: {'lamda': 0.01, 'sigma': 3},\n",
       " mean: 0.48433, std: 0.03353, params: {'lamda': 0.01, 'sigma': 10},\n",
       " mean: 0.51755, std: 0.00241, params: {'lamda': 0.001, 'sigma': 0.001},\n",
       " mean: 0.46927, std: 0.00200, params: {'lamda': 0.001, 'sigma': 0.0001},\n",
       " mean: 0.53796, std: 0.00101, params: {'lamda': 0.001, 'sigma': 0.01},\n",
       " mean: 0.54435, std: 0.00215, params: {'lamda': 0.001, 'sigma': 0.1},\n",
       " mean: 0.54323, std: 0.01238, params: {'lamda': 0.001, 'sigma': 1},\n",
       " mean: 0.54944, std: 0.00683, params: {'lamda': 0.001, 'sigma': 0.5},\n",
       " mean: 0.52570, std: 0.02696, params: {'lamda': 0.001, 'sigma': 2},\n",
       " mean: 0.49812, std: 0.05468, params: {'lamda': 0.001, 'sigma': 3},\n",
       " mean: 0.33933, std: 0.08227, params: {'lamda': 0.001, 'sigma': 10},\n",
       " mean: 0.26806, std: 0.00698, params: {'lamda': 0.5, 'sigma': 0.001},\n",
       " mean: 0.04412, std: 0.00291, params: {'lamda': 0.5, 'sigma': 0.0001},\n",
       " mean: 0.45301, std: 0.00280, params: {'lamda': 0.5, 'sigma': 0.01},\n",
       " mean: 0.50208, std: 0.00120, params: {'lamda': 0.5, 'sigma': 0.1},\n",
       " mean: 0.53444, std: 0.00399, params: {'lamda': 0.5, 'sigma': 1},\n",
       " mean: 0.52996, std: 0.00169, params: {'lamda': 0.5, 'sigma': 0.5},\n",
       " mean: 0.53790, std: 0.00744, params: {'lamda': 0.5, 'sigma': 2},\n",
       " mean: 0.53636, std: 0.01026, params: {'lamda': 0.5, 'sigma': 3},\n",
       " mean: 0.50157, std: 0.01889, params: {'lamda': 0.5, 'sigma': 10},\n",
       " mean: 0.10117, std: 0.00458, params: {'lamda': 2, 'sigma': 0.001},\n",
       " mean: 0.00872, std: 0.00265, params: {'lamda': 2, 'sigma': 0.0001},\n",
       " mean: 0.38055, std: 0.00634, params: {'lamda': 2, 'sigma': 0.01},\n",
       " mean: 0.48553, std: 0.00178, params: {'lamda': 2, 'sigma': 0.1},\n",
       " mean: 0.50933, std: 0.00345, params: {'lamda': 2, 'sigma': 1},\n",
       " mean: 0.50505, std: 0.00168, params: {'lamda': 2, 'sigma': 0.5},\n",
       " mean: 0.50926, std: 0.00667, params: {'lamda': 2, 'sigma': 2},\n",
       " mean: 0.50511, std: 0.00856, params: {'lamda': 2, 'sigma': 3},\n",
       " mean: 0.45620, std: 0.01145, params: {'lamda': 2, 'sigma': 10},\n",
       " mean: 0.06974, std: 0.00402, params: {'lamda': 3, 'sigma': 0.001},\n",
       " mean: 0.00388, std: 0.00286, params: {'lamda': 3, 'sigma': 0.0001},\n",
       " mean: 0.33500, std: 0.00709, params: {'lamda': 3, 'sigma': 0.01},\n",
       " mean: 0.48082, std: 0.00238, params: {'lamda': 3, 'sigma': 0.1},\n",
       " mean: 0.49947, std: 0.00367, params: {'lamda': 3, 'sigma': 1},\n",
       " mean: 0.49593, std: 0.00214, params: {'lamda': 3, 'sigma': 0.5},\n",
       " mean: 0.49592, std: 0.00639, params: {'lamda': 3, 'sigma': 2},\n",
       " mean: 0.49001, std: 0.00794, params: {'lamda': 3, 'sigma': 3},\n",
       " mean: 0.43227, std: 0.01025, params: {'lamda': 3, 'sigma': 10},\n",
       " mean: 0.04059, std: 0.00383, params: {'lamda': 5, 'sigma': 0.001},\n",
       " mean: -0.00115, std: 0.00330, params: {'lamda': 5, 'sigma': 0.0001},\n",
       " mean: 0.26517, std: 0.00744, params: {'lamda': 5, 'sigma': 0.01},\n",
       " mean: 0.47080, std: 0.00359, params: {'lamda': 5, 'sigma': 0.1},\n",
       " mean: 0.48390, std: 0.00450, params: {'lamda': 5, 'sigma': 1},\n",
       " mean: 0.48315, std: 0.00310, params: {'lamda': 5, 'sigma': 0.5},\n",
       " mean: 0.47459, std: 0.00661, params: {'lamda': 5, 'sigma': 2},\n",
       " mean: 0.46471, std: 0.00784, params: {'lamda': 5, 'sigma': 3},\n",
       " mean: 0.38645, std: 0.01042, params: {'lamda': 5, 'sigma': 10}]"
      ]
     },
     "execution_count": 175,
     "metadata": {},
     "output_type": "execute_result"
    }
   ],
   "source": [
    "# Calculate the scores\n",
    "grid_gauss.grid_scores_"
   ]
  },
  {
   "cell_type": "code",
   "execution_count": 176,
   "metadata": {
    "collapsed": false
   },
   "outputs": [
    {
     "data": {
      "text/plain": [
       "{'lamda': 0.01, 'sigma': 1}"
      ]
     },
     "execution_count": 176,
     "metadata": {},
     "output_type": "execute_result"
    }
   ],
   "source": [
    "#Prints the best values for hyperparameters\n",
    "grid_gauss.best_params_"
   ]
  },
  {
   "cell_type": "markdown",
   "metadata": {},
   "source": [
    "<p align> R square is maximum for gaussian kernel for our model </p>"
   ]
  },
  {
   "cell_type": "code",
   "execution_count": 177,
   "metadata": {
    "collapsed": false
   },
   "outputs": [
    {
     "name": "stdout",
     "output_type": "stream",
     "text": [
      "The R squared value of gaussian kernel is 0.5535131948710023\n"
     ]
    }
   ],
   "source": [
    "print(\"The R squared value of gaussian kernel is \"+ str(grid_gauss.best_score_))"
   ]
  },
  {
   "cell_type": "markdown",
   "metadata": {},
   "source": [
    "<p align><b>We use Kernel Ridge library from sklearn for comparing our algorithm with the machine learning algorithm</b></p>\n",
    "<p align><b>We again use gridsearchcv for machine learning methods and do 5 fold cross validation and tuning of hyperparameters for all three models</b></p>"
   ]
  },
  {
   "cell_type": "code",
   "execution_count": 154,
   "metadata": {
    "collapsed": true
   },
   "outputs": [],
   "source": [
    "#Using Sklearn library to implement Linear Kernel\n",
    "grid_linear_sk=GridSearchCV(KernelRidge(kernel='linear'), param_grid={'alpha':[1e0,0.1,1e-2,1e-3,0.5,2,3,5]}, cv=5)"
   ]
  },
  {
   "cell_type": "code",
   "execution_count": 155,
   "metadata": {
    "collapsed": false
   },
   "outputs": [
    {
     "data": {
      "text/plain": [
       "GridSearchCV(cv=5, error_score='raise',\n",
       "       estimator=KernelRidge(alpha=1, coef0=1, degree=3, gamma=None, kernel='linear',\n",
       "      kernel_params=None),\n",
       "       fit_params={}, iid=True, n_jobs=1,\n",
       "       param_grid={'alpha': [1.0, 0.1, 0.01, 0.001, 0.5, 2, 3, 5]},\n",
       "       pre_dispatch='2*n_jobs', refit=True, scoring=None, verbose=0)"
      ]
     },
     "execution_count": 155,
     "metadata": {},
     "output_type": "execute_result"
    }
   ],
   "source": [
    "grid_linear_sk.fit(X_train,Y_train)"
   ]
  },
  {
   "cell_type": "code",
   "execution_count": 156,
   "metadata": {
    "collapsed": false
   },
   "outputs": [
    {
     "data": {
      "text/plain": [
       "{'alpha': 0.01}"
      ]
     },
     "execution_count": 156,
     "metadata": {},
     "output_type": "execute_result"
    }
   ],
   "source": [
    "grid_linear_sk.best_params_"
   ]
  },
  {
   "cell_type": "code",
   "execution_count": 157,
   "metadata": {
    "collapsed": true
   },
   "outputs": [],
   "source": [
    "y_pred_lin_sk=grid_linear_sk.predict(X_test)"
   ]
  },
  {
   "cell_type": "code",
   "execution_count": 158,
   "metadata": {
    "collapsed": true
   },
   "outputs": [],
   "source": [
    "score_lin=sklearn.metrics.r2_score(Y_test, y_pred_lin_sk)"
   ]
  },
  {
   "cell_type": "code",
   "execution_count": 159,
   "metadata": {
    "collapsed": false
   },
   "outputs": [
    {
     "name": "stdout",
     "output_type": "stream",
     "text": [
      "The R squared value of linear kernel is 0.526684877904\n"
     ]
    }
   ],
   "source": [
    "print(\"The R squared value of linear kernel is \"+ str(score_lin))"
   ]
  },
  {
   "cell_type": "code",
   "execution_count": 160,
   "metadata": {
    "collapsed": true
   },
   "outputs": [],
   "source": [
    "grid_polynomial_sk= GridSearchCV(KernelRidge(kernel=\"polynomial\", degree=3), cv=5, param_grid={\"alpha\":[1e0,0.1,1e-2,1e-3,0.5,2,3,5], \"gamma\":[0.001,0.0001,0.01,0.1,1,0.5,2,3]})"
   ]
  },
  {
   "cell_type": "code",
   "execution_count": 161,
   "metadata": {
    "collapsed": false
   },
   "outputs": [
    {
     "data": {
      "text/plain": [
       "GridSearchCV(cv=5, error_score='raise',\n",
       "       estimator=KernelRidge(alpha=1, coef0=1, degree=3, gamma=None, kernel='polynomial',\n",
       "      kernel_params=None),\n",
       "       fit_params={}, iid=True, n_jobs=1,\n",
       "       param_grid={'alpha': [1.0, 0.1, 0.01, 0.001, 0.5, 2, 3, 5], 'gamma': [0.001, 0.0001, 0.01, 0.1, 1, 0.5, 2, 3]},\n",
       "       pre_dispatch='2*n_jobs', refit=True, scoring=None, verbose=0)"
      ]
     },
     "execution_count": 161,
     "metadata": {},
     "output_type": "execute_result"
    }
   ],
   "source": [
    "grid_polynomial_sk.fit(X_train,Y_train)"
   ]
  },
  {
   "cell_type": "code",
   "execution_count": 162,
   "metadata": {
    "collapsed": false
   },
   "outputs": [
    {
     "data": {
      "text/plain": [
       "{'alpha': 0.01, 'gamma': 0.5}"
      ]
     },
     "execution_count": 162,
     "metadata": {},
     "output_type": "execute_result"
    }
   ],
   "source": [
    "grid_polynomial_sk.best_params_"
   ]
  },
  {
   "cell_type": "code",
   "execution_count": 163,
   "metadata": {
    "collapsed": true
   },
   "outputs": [],
   "source": [
    "y_pred_poly_sk=grid_polynomial_sk.predict(X_test)"
   ]
  },
  {
   "cell_type": "code",
   "execution_count": 164,
   "metadata": {
    "collapsed": false
   },
   "outputs": [
    {
     "name": "stdout",
     "output_type": "stream",
     "text": [
      "The R squared value of polynomial kernel is 0.548785519754\n"
     ]
    }
   ],
   "source": [
    "score_poly=sklearn.metrics.r2_score(Y_test, y_pred_poly_sk)\n",
    "print(\"The R squared value of polynomial kernel is \"+ str(score_poly))"
   ]
  },
  {
   "cell_type": "code",
   "execution_count": 165,
   "metadata": {
    "collapsed": true
   },
   "outputs": [],
   "source": [
    "grid_gaussian_sk= GridSearchCV(KernelRidge(kernel=\"rbf\"), cv=5, param_grid={\"alpha\":[1e0,0.1,1e-2,1e-3,0.5,2,3,5], \"gamma\":[0.001,0.0001,0.01,0.1,1,0.5,2,3,10]})"
   ]
  },
  {
   "cell_type": "code",
   "execution_count": 166,
   "metadata": {
    "collapsed": false
   },
   "outputs": [
    {
     "data": {
      "text/plain": [
       "GridSearchCV(cv=5, error_score='raise',\n",
       "       estimator=KernelRidge(alpha=1, coef0=1, degree=3, gamma=None, kernel='rbf',\n",
       "      kernel_params=None),\n",
       "       fit_params={}, iid=True, n_jobs=1,\n",
       "       param_grid={'alpha': [1.0, 0.1, 0.01, 0.001, 0.5, 2, 3, 5], 'gamma': [0.001, 0.0001, 0.01, 0.1, 1, 0.5, 2, 3, 10]},\n",
       "       pre_dispatch='2*n_jobs', refit=True, scoring=None, verbose=0)"
      ]
     },
     "execution_count": 166,
     "metadata": {},
     "output_type": "execute_result"
    }
   ],
   "source": [
    "grid_gaussian_sk.fit(X_train,Y_train)"
   ]
  },
  {
   "cell_type": "code",
   "execution_count": 167,
   "metadata": {
    "collapsed": false
   },
   "outputs": [
    {
     "data": {
      "text/plain": [
       "{'alpha': 0.1, 'gamma': 0.5}"
      ]
     },
     "execution_count": 167,
     "metadata": {},
     "output_type": "execute_result"
    }
   ],
   "source": [
    "grid_gaussian_sk.best_params_"
   ]
  },
  {
   "cell_type": "code",
   "execution_count": 168,
   "metadata": {
    "collapsed": true
   },
   "outputs": [],
   "source": [
    "y_pred_gauss_sk=grid_gaussian_sk.predict(X_test)"
   ]
  },
  {
   "cell_type": "code",
   "execution_count": 169,
   "metadata": {
    "collapsed": false
   },
   "outputs": [
    {
     "name": "stdout",
     "output_type": "stream",
     "text": [
      "The R squared value of gaussian kernel is 0.544719812409\n"
     ]
    }
   ],
   "source": [
    "score_gauss=sklearn.metrics.r2_score(Y_test, y_pred_gauss_sk)\n",
    "print(\"The R squared value of gaussian kernel is \"+ str(score_gauss))"
   ]
  },
  {
   "cell_type": "markdown",
   "metadata": {},
   "source": [
    "<p align><b>We also plot the graph for all 3 models taking trivial data points from our dataset</b></p>\n",
    "<p align><b>We plot the graph for height of the Abalone against the number of rings.</b></p> "
   ]
  },
  {
   "cell_type": "code",
   "execution_count": 164,
   "metadata": {
    "collapsed": false
   },
   "outputs": [],
   "source": [
    "#sample data for plotting graph with few datapoints\n",
    "sample_x_train=X[0:100,3]\n",
    "sample_y_train=Y[0:100,0]\n",
    "sample_x_test=X[200:300,3]\n",
    "sample_y_test=Y[200:300,0]"
   ]
  },
  {
   "cell_type": "code",
   "execution_count": 165,
   "metadata": {
    "collapsed": false
   },
   "outputs": [],
   "source": [
    "## linear kernel \n",
    "def linearker(X_train,Y_train,X_test):\n",
    "    k= X_train * np.transpose(X_train)\n",
    "    shape_r,shape_c=k.shape\n",
    "    lamda=0.01\n",
    "    Identity=(np.identity(shape_r))\n",
    "    lamdaI=lamda*Identity\n",
    "    Second=np.linalg.pinv(k+lamdaI)\n",
    "    k_x= X_train * np.transpose(X_test)\n",
    "    k_x_tran=np.transpose(k_x)\n",
    "    res= np.dot(k_x_tran, Second)\n",
    "    y_pred=np.dot(res,Y_train)\n",
    "    return y_pred "
   ]
  },
  {
   "cell_type": "code",
   "execution_count": 166,
   "metadata": {
    "collapsed": false
   },
   "outputs": [],
   "source": [
    "predicted_y_linear=linearker(sample_x_train,sample_y_train,sample_x_test)"
   ]
  },
  {
   "cell_type": "code",
   "execution_count": 174,
   "metadata": {
    "collapsed": false
   },
   "outputs": [
    {
     "name": "stdout",
     "output_type": "stream",
     "text": [
      "The R squared value of linear kernel is 0.109946771406\n"
     ]
    },
    {
     "data": {
      "image/png": "[encoded data removed]",
      "text/plain": [
       "<matplotlib.figure.Figure at 0x7f810cc1eac8>"
      ]
     },
     "metadata": {},
     "output_type": "display_data"
    }
   ],
   "source": [
    "#graph plotting \n",
    "plt.scatter(np.squeeze(np.asarray(sample_x_train)),np.squeeze(np.asarray(sample_y_train)),c=\"blue\")\n",
    "plt.plot(np.squeeze(np.asarray(sample_x_test)),np.squeeze(np.asarray(predicted_y_linear)),c = \"red\")\n",
    "plt.title(\"Linear Kernel\")\n",
    "plt.xlabel(\"Whole weight in grams\")\n",
    "plt.ylabel(\"Number of rings\")\n",
    "red_patch = mpatches.Patch(color='red', label='Regression Line')\n",
    "blue_patch = mpatches.Patch(color='blue', label='Data Points')\n",
    "plt.legend(handles=[red_patch,blue_patch])\n",
    "score_lin1=sklearn.metrics.r2_score(sample_y_test, predicted_y_linear)\n",
    "print(\"The R squared value of linear kernel is \"+ str(score_lin1))\n",
    "\n"
   ]
  },
  {
   "cell_type": "code",
   "execution_count": 160,
   "metadata": {
    "collapsed": true
   },
   "outputs": [],
   "source": [
    "#graph plotting for polynomial kernel\n",
    "def polyker(X_train,Y_train,X_test):\n",
    "    gamma=0.5\n",
    "    k_second_poly= X_train * np.transpose(X_train)\n",
    "    prod1= gamma * k_second_poly\n",
    "    shape_poly_r,shape_poly_c=k_second_poly.shape\n",
    "    r=np.ones(shape_poly_r)\n",
    "    add_poly= np.power((prod1+r),3)\n",
    "    lamda_poly=0.01\n",
    "    Identity_poly=(np.identity(shape_poly_r))\n",
    "    lamdaI_poly=lamda_poly*Identity_poly\n",
    "    Second_poly=np.linalg.pinv(add_poly+lamdaI_poly)\n",
    "    k_first_poly= X_train * np.transpose(X_test)\n",
    "    prod1_poly= gamma * k_first_poly\n",
    "    shape_poly_r1,shape_poly_c1=k_first_poly.shape\n",
    "    r1=np.ones((shape_poly_r1,shape_poly_c1))\n",
    "    res1_poly=np.transpose(np.power((prod1_poly+r1),3))\n",
    "    first_product_poly=np.dot(res1_poly,Second_poly)\n",
    "    pred_y_poly=np.dot(first_product_poly,Y_train)\n",
    "    return pred_y_poly\n"
   ]
  },
  {
   "cell_type": "code",
   "execution_count": 161,
   "metadata": {
    "collapsed": true
   },
   "outputs": [],
   "source": [
    "predicted_y_poly=polyker(sample_x_train,sample_y_train,sample_x_test)"
   ]
  },
  {
   "cell_type": "code",
   "execution_count": 175,
   "metadata": {
    "collapsed": false
   },
   "outputs": [
    {
     "name": "stdout",
     "output_type": "stream",
     "text": [
      "The R squared value of polynomial kernel is 0.608063244069\n"
     ]
    },
    {
     "data": {
      "image/png": "[encoded data removed]",
      "text/plain": [
       "<matplotlib.figure.Figure at 0x7f810cd63ef0>"
      ]
     },
     "metadata": {},
     "output_type": "display_data"
    }
   ],
   "source": [
    "#graph for polynomial kernel\n",
    "plt.scatter(np.squeeze(np.asarray(sample_x_train)),np.squeeze(np.asarray(sample_y_train)),c=\"blue\")\n",
    "plt.plot(np.squeeze(np.asarray(sample_x_test)),np.squeeze(np.asarray(predicted_y_poly)),c=\"red\")\n",
    "plt.title(\"Polynomial Kernel\")\n",
    "plt.xlabel(\"Whole weight in grams\")\n",
    "plt.ylabel(\"Number of rings\")\n",
    "red_patch = mpatches.Patch(color='red', label='Regression Curve')\n",
    "blue_patch = mpatches.Patch(color='blue', label='Data Points')\n",
    "plt.legend(handles=[red_patch,blue_patch])\n",
    "\n",
    "score_lin2=sklearn.metrics.r2_score(sample_y_test, predicted_y_poly)\n",
    "print(\"The R squared value of polynomial kernel is \"+ str(score_lin2))\n"
   ]
  },
  {
   "cell_type": "code",
   "execution_count": 142,
   "metadata": {
    "collapsed": true
   },
   "outputs": [],
   "source": [
    "# function for gaussian kernel graph\n",
    "def gaussker(X_train,Y_train,X_test):\n",
    "    sigma=0.5\n",
    "    lamda_gauss =0.1\n",
    "    A=np.squeeze(np.asarray(X_train))\n",
    "    B=np.squeeze(np.asarray(X_test))\n",
    "    m,n=X_train.shape\n",
    "    c,d=X_test.shape\n",
    "    k=np.zeros((m,m))\n",
    "    for i in range(len(X_train)):\n",
    "        for j in range(len(X_train)):\n",
    "            k[i][j]=gauss_ker(A[i],A[j],sigma)\n",
    "    shape_gauss_r,shape_gauss_c=k.shape\n",
    "    Identity_gauss=(np.identity(shape_gauss_r))\n",
    "    lamdaI_gauss=lamda_gauss*Identity_gauss\n",
    "    Second_gauss=np.linalg.pinv(k+lamdaI_gauss)\n",
    "    k1=np.zeros((m,c))\n",
    "    for i in range(len(X_test)):\n",
    "        for j in range(len(X_train)):\n",
    "            k1[j][i]=gauss_ker(A[j],B[i],sigma)\n",
    "    k1_tran=np.transpose(k1)\n",
    "    mul1=np.dot(k1_tran,Second_gauss)\n",
    "    y_pred_gauss_ourmodel=np.dot(mul1,Y_train)\n",
    "    return y_pred_gauss_ourmodel\n"
   ]
  },
  {
   "cell_type": "code",
   "execution_count": 143,
   "metadata": {
    "collapsed": false
   },
   "outputs": [],
   "source": [
    "predicted_y_gauss=gaussker(sample_x_train,sample_y_train,sample_x_test)"
   ]
  },
  {
   "cell_type": "code",
   "execution_count": 176,
   "metadata": {
    "collapsed": false
   },
   "outputs": [
    {
     "name": "stdout",
     "output_type": "stream",
     "text": [
      "The R squared value of Gaussian kernel is 0.595427726281\n"
     ]
    },
    {
     "data": {
      "image/png": "[encoded data removed]",
      "text/plain": [
       "<matplotlib.figure.Figure at 0x7f810c9a9128>"
      ]
     },
     "metadata": {},
     "output_type": "display_data"
    }
   ],
   "source": [
    "#graph for gaussian kernel \n",
    "plt.scatter(np.squeeze(np.asarray(sample_x_train)),np.squeeze(np.asarray(sample_y_train)),c=\"blue\")\n",
    "plt.plot(np.squeeze(np.asarray(sample_x_test)),np.squeeze(np.asarray(predicted_y_gauss)),c=\"red\")\n",
    "plt.title(\"Gaussian Kernel\")\n",
    "plt.xlabel(\"Whole weight in grams\")\n",
    "plt.ylabel(\"Number of rings\")\n",
    "red_patch = mpatches.Patch(color='red', label='Regression Curve')\n",
    "blue_patch = mpatches.Patch(color='blue', label='Data Points')\n",
    "plt.legend(handles=[red_patch,blue_patch])\n",
    "score_lin3=sklearn.metrics.r2_score(sample_y_test, predicted_y_gauss)\n",
    "print(\"The R squared value of Gaussian kernel is \"+ str(score_lin3))\n",
    "\n"
   ]
  },
  {
   "cell_type": "markdown",
   "metadata": {},
   "source": [
    "<p align> <b> Conclusion:</b>From the plot we can show that gaussian and polynomial performs better than linear kernel model for our dataset.</p> "
   ]
  },
  {
   "cell_type": "code",
   "execution_count": null,
   "metadata": {
    "collapsed": true
   },
   "outputs": [],
   "source": []
  }
 ],
 "metadata": {
  "anaconda-cloud": {},
  "kernelspec": {
   "display_name": "Python [default]",
   "language": "python",
   "name": "python3"
  },
  "language_info": {
   "codemirror_mode": {
    "name": "ipython",
    "version": 3
   },
   "file_extension": ".py",
   "mimetype": "text/x-python",
   "name": "python",
   "nbconvert_exporter": "python",
   "pygments_lexer": "ipython3",
   "version": "3.5.2"
  }
 },
 "nbformat": 4,
 "nbformat_minor": 1
}
